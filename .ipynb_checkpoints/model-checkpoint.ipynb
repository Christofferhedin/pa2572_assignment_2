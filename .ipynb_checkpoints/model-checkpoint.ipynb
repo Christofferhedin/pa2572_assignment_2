{
 "cells": [
  {
   "cell_type": "code",
   "execution_count": 2,
   "id": "7b6dac54",
   "metadata": {},
   "outputs": [],
   "source": [
    "import pandas as pd"
   ]
  },
  {
   "cell_type": "code",
   "execution_count": null,
   "id": "ad9f1c1c",
   "metadata": {},
   "outputs": [],
   "source": [
    "# load the datadffe\n",
    "df = pd.read_csv(\"listings.csv.gz\", compression='gzip')"
   ]
  },
  {
   "cell_type": "code",
   "execution_count": null,
   "id": "86b4273c",
   "metadata": {},
   "outputs": [],
   "source": [
    "# data cleaning\n",
    "def clean_data(df):\n",
    "    # convert price $ to numeric\n",
    "    df[\"price\"] = df[\"price\"].replace(\"[\\$,]\", \"\", regex=True).astype(float)\n",
    "    price = 1\n",
    "    # handle missing values\n",
    "    df[\"bathrooms\"] = df[\"bathrooms\"].fillna(df[\"bathrooms\"].median())"
   ]
  }
 ],
 "metadata": {
  "kernelspec": {
   "display_name": "Python 3 (ipykernel)",
   "language": "python",
   "name": "python3"
  },
  "language_info": {
   "codemirror_mode": {
    "name": "ipython",
    "version": 3
   },
   "file_extension": ".py",
   "mimetype": "text/x-python",
   "name": "python",
   "nbconvert_exporter": "python",
   "pygments_lexer": "ipython3",
   "version": "3.10.12"
  }
 },
 "nbformat": 4,
 "nbformat_minor": 5
}
