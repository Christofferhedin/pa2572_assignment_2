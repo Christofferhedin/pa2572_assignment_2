{
 "cells": [
  {
   "cell_type": "code",
   "execution_count": 38,
   "id": "7b6dac54",
   "metadata": {},
   "outputs": [],
   "source": [
    "import pandas as pd\n",
    "import re\n",
    "import numpy as np\n",
    "from sklearn.preprocessing import OneHotEncoder"
   ]
  },
  {
   "cell_type": "code",
   "execution_count": 37,
   "id": "f97d98b7",
   "metadata": {},
   "outputs": [],
   "source": [
    "# data cleaning\n",
    "def clean_data(df):\n",
    "    \n",
    "    # convert price $ to numeric\n",
    "    df[\"price\"] = df[\"price\"].replace(\"[\\$,]\", \"\", regex=True).astype(float)\n",
    "    \n",
    "    # handle missing values\n",
    "    df[\"bathrooms\"] = df[\"bathrooms\"].fillna(df[\"bathrooms\"].median())\n",
    "    df[\"bedrooms\"] = df[\"bedrooms\"].fillna(df[\"bedrooms\"].median())\n",
    "    df[\"beds\"] = df[\"beds\"].fillna(df[\"beds\"].median())\n",
    "    \n",
    "\n",
    "    return df\n",
    "\n",
    "# Clean the data\n",
    "df_clean = clean_data(df)\n"
   ]
  },
  {
   "cell_type": "code",
   "execution_count": 40,
   "metadata": {},
   "outputs": [
    {
     "data": {
      "text/plain": [
       "array([[0., 0., 0., 0.]])"
      ]
     },
     "execution_count": 40,
     "metadata": {},
     "output_type": "execute_result"
    }
   ],
   "source": [
    "#print(df_clean)\n",
    "#df_clean[\"amenities\"]\n",
    "enc = OneHotEncoder(sparse_output=True, handle_unknown='ignore')\n",
    "all_amenities = set(amenity for sublist in df_clean['amenities'] for amenity in sublist)\n",
    "all_amenities_list = np.array(list(all_amenities)[0:4]).reshape(-1, 1)\n",
    "enc.fit_transform(all_amenities_list)\n",
    "# print(enc.get_feature_names_out())\n",
    "#df_clean[\"amenities\"]\n",
    "enc.transform([[\"Hair dryer\"]]).toarray()"
   ]
  }
 ],
 "metadata": {
  "kernelspec": {
   "display_name": "venv",
   "language": "python",
   "name": "python3"
  },
  "language_info": {
   "codemirror_mode": {
    "name": "ipython",
    "version": 3
   },
   "file_extension": ".py",
   "mimetype": "text/x-python",
   "name": "python",
   "nbconvert_exporter": "python",
   "pygments_lexer": "ipython3",
   "version": "3.10.12"
  }
 },
 "nbformat": 4,
 "nbformat_minor": 5
}
